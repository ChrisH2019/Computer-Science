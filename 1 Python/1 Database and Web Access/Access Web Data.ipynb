{
 "cells": [
  {
   "cell_type": "markdown",
   "metadata": {},
   "source": [
    "# Using Pyton to Access Web Data\n",
    "\n",
    "Course project taught by Dr. Chuck @ Coursera.org."
   ]
  },
  {
   "cell_type": "markdown",
   "metadata": {},
   "source": [
    "## Finding Numbers in a Haystack"
   ]
  },
  {
   "cell_type": "code",
   "execution_count": 3,
   "metadata": {},
   "outputs": [
    {
     "name": "stdout",
     "output_type": "stream",
     "text": [
      "passed\n"
     ]
    }
   ],
   "source": [
    "import re\n",
    "num_lst = []\n",
    "total = 0\n",
    "with open('regex_sum_27486.txt') as file:\n",
    "    for line in file:\n",
    "        line = line.rstrip()\n",
    "        numbers = re.findall('[0-9]+', line)\n",
    "        if len(numbers) == 0: #Extract no numbers\n",
    "            continue \n",
    "        else:\n",
    "            for number in numbers:\n",
    "                number = int(number)\n",
    "                num_lst.append(number)\n",
    "                total += number\n",
    "if total == 27486:\n",
    "    print('passed')\n",
    "else:\n",
    "    pritn('failed')"
   ]
  },
  {
   "cell_type": "code",
   "execution_count": 42,
   "metadata": {},
   "outputs": [
    {
     "name": "stdout",
     "output_type": "stream",
     "text": [
      "passed\n"
     ]
    }
   ],
   "source": [
    "num_lst = []\n",
    "total = 0\n",
    "with open('regex_sum_445833.txt') as file:\n",
    "    for line in file:\n",
    "        line = line.rstrip()\n",
    "        numbers = re.findall('[0-9]+', line)\n",
    "        if len(numbers) == 0: #Extract no numbers\n",
    "            continue \n",
    "        else:\n",
    "            for number in numbers:\n",
    "                number = int(number)\n",
    "                num_lst.append(number)\n",
    "                total += number\n",
    "if total == 445833:\n",
    "    print('passed')\n",
    "else:\n",
    "    pritn('failed')"
   ]
  },
  {
   "cell_type": "code",
   "execution_count": 50,
   "metadata": {},
   "outputs": [
    {
     "name": "stdout",
     "output_type": "stream",
     "text": [
      "314191\n"
     ]
    }
   ],
   "source": [
    "num_lst = []\n",
    "total = 0\n",
    "with open('regex_sum_259769.txt') as file:\n",
    "    for line in file:\n",
    "        line = line.rstrip()\n",
    "        numbers = re.findall('[0-9]+', line)\n",
    "        if len(numbers) == 0: #Extract no numbers\n",
    "            continue \n",
    "        else:\n",
    "            for number in numbers:\n",
    "                number = int(number)\n",
    "                num_lst.append(number)\n",
    "                total += number\n",
    "print(total)"
   ]
  },
  {
   "cell_type": "markdown",
   "metadata": {},
   "source": [
    "## Exploring the Hypertext Transport Protocol"
   ]
  },
  {
   "cell_type": "code",
   "execution_count": 4,
   "metadata": {
    "scrolled": false
   },
   "outputs": [
    {
     "name": "stdout",
     "output_type": "stream",
     "text": [
      "HTTP/1.1 200 OK\n",
      "Date: Thu, 04 Jul 2019 22:11:03 GMT\n",
      "Server: Apache/2.4.18 (Ubuntu)\n",
      "Last-Modified: Sat, 13 May 2017 11:22:22 GMT\n",
      "ETag: \"1d3-54f6609240717\"\n",
      "Accept-Ranges: bytes\n",
      "Content-Length: 467\n",
      "Cache-Control: max-age=0, no-cache, no-store, must-revalidate\n",
      "Pragma: no-cache\n",
      "Expires: Wed, 11 Jan 1984 05:00:00 GMT\n",
      "Connection: close\n",
      "Content-Type: text/plain\n",
      "\n",
      "Why should you learn to write programs?\n",
      "\n",
      "Writing programs (or programming) is a very creative \n",
      "and rewarding activity.  You can write programs for \n",
      "many reasons, ranging from making your living to solving\n",
      "a difficult data analysis problem to having fun to helping\n",
      "someone else solve a problem.  This book assumes that \n",
      "everyone needs to know how to program, and that once \n",
      "you know how to program you will figure out what you want \n",
      "to do with your newfound skills.  \n"
     ]
    }
   ],
   "source": [
    "import socket\n",
    "\n",
    "mysock = socket.socket(socket.AF_INET, socket.SOCK_STREAM) #Create a socket\n",
    "mysock.connect(('data.pr4e.org', 80)) #Connect to port of DNS\n",
    "cmd = 'GET http://data.pr4e.org/intro-short.txt HTTP/1.0\\r\\n\\r\\n'.encode() #Request\n",
    "mysock.send(cmd) #Send request\n",
    "\n",
    "while True:\n",
    "    data = mysock.recv(512) #Receive bytecodes\n",
    "    if len(data) < 1:\n",
    "        break\n",
    "    print(data.decode(), end='') #Transfer byte codes to unicode\n",
    "\n",
    "mysock.close()"
   ]
  },
  {
   "cell_type": "markdown",
   "metadata": {},
   "source": [
    "## Scraping Numbers from HTML using BeautifulSoup"
   ]
  },
  {
   "cell_type": "code",
   "execution_count": 2,
   "metadata": {
    "scrolled": true
   },
   "outputs": [
    {
     "name": "stdout",
     "output_type": "stream",
     "text": [
      "Enter - http://py4e-data.dr-chuck.net/comments_259771.html\n",
      "2486\n"
     ]
    }
   ],
   "source": [
    "from urllib.request import urlopen\n",
    "from bs4 import BeautifulSoup\n",
    "import ssl\n",
    "\n",
    "#Ignore SSL certificate errors\n",
    "ctx = ssl.create_default_context()\n",
    "ctx.check_hostname = False\n",
    "ctx.verify_mode = ssl.CERT_NONE\n",
    "\n",
    "#url1 = http://py4e-data.dr-chuck.net/comments_42.html sum = 2553\n",
    "#url2 = http://py4e-data.dr-chuck.net/comments_259771.html sum = 2486\n",
    "url = input('Enter - ')\n",
    "html = urlopen(url, context=ctx).read() #Obtain html object\n",
    "soup = BeautifulSoup(html, 'html.parser') #Parse html object\n",
    "\n",
    "#Retrieve all of the span tags\n",
    "tags = soup('span')\n",
    "total = 0\n",
    "for tag in tags:\n",
    "    #Look at the number in the tag\n",
    "    total += int(tag.contents[0]) #contents == <tag>contents</tag>\n",
    "print(total)"
   ]
  },
  {
   "cell_type": "markdown",
   "metadata": {},
   "source": [
    "## Following Links in Python"
   ]
  },
  {
   "cell_type": "code",
   "execution_count": 9,
   "metadata": {},
   "outputs": [
    {
     "name": "stdout",
     "output_type": "stream",
     "text": [
      "Enter URL: http://py4e-data.dr-chuck.net/known_by_Pascoe.html\n",
      "Enter count: 7\n",
      "Enter position: 18\n",
      "Retrieving: http://py4e-data.dr-chuck.net/known_by_Pascoe.html\n",
      "Retrieving: http://py4e-data.dr-chuck.net/known_by_Alannah.html\n",
      "Retrieving: http://py4e-data.dr-chuck.net/known_by_Rhylee.html\n",
      "Retrieving: http://py4e-data.dr-chuck.net/known_by_Konnie.html\n",
      "Retrieving: http://py4e-data.dr-chuck.net/known_by_Youer.html\n",
      "Retrieving: http://py4e-data.dr-chuck.net/known_by_Jabin.html\n",
      "Retrieving: http://py4e-data.dr-chuck.net/known_by_Dilya.html\n",
      "Retrieving: http://py4e-data.dr-chuck.net/known_by_Audrey.html\n"
     ]
    }
   ],
   "source": [
    "import urllib.request\n",
    "from bs4 import BeautifulSoup\n",
    "import ssl\n",
    "\n",
    "#Ignore SSL certificate errors\n",
    "ctx = ssl.create_default_context()\n",
    "ctx.check_hostname = False\n",
    "ctx.verify_mode = ssl.CERT_NONE\n",
    "\n",
    "#url = 'http://py4e-data.dr-chuck.net/known_by_Fikret.html' # position = 3 count = 4 ans = Anayah\n",
    "#url = 'http://py4e-data.dr-chuck.net/known_by_Pascoe.html' # position = 18 coun = 7 ans = Audrey\n",
    "url = input('Enter URL: ')\n",
    "count = int(input('Enter count: '))\n",
    "position = int(input('Enter position: '))\n",
    "for _ in range(count + 1):\n",
    "    print('Retrieving: ' + url)\n",
    "    html = urllib.request.urlopen(url, context=ctx).read()\n",
    "    soup = BeautifulSoup(html, 'html.parser')\n",
    "    name = soup('a')[position - 1].contents[0]\n",
    "    url = 'http://py4e-data.dr-chuck.net/known_by_' + str(name) + '.html'"
   ]
  },
  {
   "cell_type": "markdown",
   "metadata": {},
   "source": [
    "## Extracting Data from XML"
   ]
  },
  {
   "cell_type": "code",
   "execution_count": 28,
   "metadata": {},
   "outputs": [
    {
     "name": "stdout",
     "output_type": "stream",
     "text": [
      "Enter location: http://py4e-data.dr-chuck.net/comments_259773.xml\n",
      "Retrieving http://py4e-data.dr-chuck.net/comments_259773.xml\n",
      "Retrieved 4231 characters\n",
      "Count: 50\n",
      "Sum: 2439\n"
     ]
    }
   ],
   "source": [
    "import urllib.request, urllib.parse, urllib.error\n",
    "import xml.etree.ElementTree as ET\n",
    "import ssl\n",
    "    \n",
    "#Ignore SSL certificate errors\n",
    "ctx = ssl.create_default_context()\n",
    "ctx.check_hostname = False\n",
    "ctx.verify_mode = ssl.CERT_NONE\n",
    "\n",
    "#url = http://py4e-data.dr-chuck.net/comments_42.xml\n",
    "#url = http://py4e-data.dr-chuck.net/comments_259773.xml\n",
    "url = input('Enter location: ')\n",
    "print('Retrieving', url)\n",
    "uh = urllib.request.urlopen(url, context=ctx) #Connect url\n",
    "\n",
    "data = uh.read() #Reads the url object to strings\n",
    "print('Retrieved', len(data), 'characters')\n",
    "data.decode()\n",
    "tree = ET.fromstring(data) #Parse strings to XML tree\n",
    "\n",
    "lst = tree.findall('comments/comment') #Find nodes\n",
    "print('Count:', len(lst))\n",
    "\n",
    "total = 0\n",
    "for item in lst:\n",
    "    total += int(item.find('count').text) #Find the contens of the node\n",
    "print('Sum:', total)"
   ]
  },
  {
   "cell_type": "markdown",
   "metadata": {},
   "source": [
    "## Extracting JSON Data"
   ]
  },
  {
   "cell_type": "code",
   "execution_count": 47,
   "metadata": {
    "scrolled": true
   },
   "outputs": [
    {
     "name": "stdout",
     "output_type": "stream",
     "text": [
      "Enter location: http://py4e-data.dr-chuck.net/comments_259774.json\n",
      "Retrieving http://py4e-data.dr-chuck.net/comments_259774.json\n",
      "Retrieved 2723 characters\n",
      "Count 50\n",
      "Sum 2413\n"
     ]
    }
   ],
   "source": [
    "import urllib.request, urllib.parse, urllib.error\n",
    "import ssl\n",
    "import json\n",
    "\n",
    "#Ignore SSL certificate errors\n",
    "ctx = ssl.create_default_context()\n",
    "ctx.check_hostname = False\n",
    "ctx.verify_mode = ssl.CERT_NONE\n",
    "\n",
    "#url = http://py4e-data.dr-chuck.net/comments_42.json\n",
    "#url = http://py4e-data.dr-chuck.net/comments_259774.json\n",
    "url = input('Enter location: ')\n",
    "print('Retrieving', url)\n",
    "uh = urllib.request.urlopen(url, context=ctx)\n",
    "\n",
    "data = uh.read().decode()\n",
    "print('Retrieved', len(data), 'characters')\n",
    "js = json.loads(data) #Parse strings to JSON format\n",
    "\n",
    "total = 0\n",
    "count = 0\n",
    "for item in js['comments']:\n",
    "    total += int(item['count'])\n",
    "    count += 1\n",
    "print('Count', count)\n",
    "print('Sum', total)"
   ]
  },
  {
   "cell_type": "markdown",
   "metadata": {},
   "source": [
    "## Calling a JSON API"
   ]
  },
  {
   "cell_type": "code",
   "execution_count": 64,
   "metadata": {},
   "outputs": [
    {
     "name": "stdout",
     "output_type": "stream",
     "text": [
      "Enter location: University of Pretoria\n",
      "Retrieving http://py4e-data.dr-chuck.net/json?address=University+of+Pretoria&key=42\n",
      "Retrieved 2156 characters\n",
      "place_id ChIJ0zuFF71hlR4RAslCW-07CKc\n"
     ]
    }
   ],
   "source": [
    "import urllib.request, urllib.parse, urllib.error\n",
    "import ssl\n",
    "import json\n",
    "\n",
    "api_key = 42\n",
    "service_url = 'http://py4e-data.dr-chuck.net/json?'\n",
    "\n",
    "#Ignore SSL certificate errors\n",
    "ctx = ssl.create_default_context()\n",
    "ctx.check_hostname = False\n",
    "ctx.verify_mode = ssl.CERT_NONE\n",
    "\n",
    "address = input('Enter location: ')\n",
    "parms = dict()\n",
    "parms['address'] = address\n",
    "parms['key'] = api_key\n",
    "url = service_url + urllib.parse.urlencode(parms)\n",
    "\n",
    "print('Retrieving', url)\n",
    "uh = urllib.request.urlopen(url, context=ctx)\n",
    "data = uh.read().decode()\n",
    "print('Retrieved', len(data), 'characters')\n",
    "\n",
    "js = json.loads(data)\n",
    "print('place_id', js['results'][0]['place_id'])"
   ]
  }
 ],
 "metadata": {
  "kernelspec": {
   "display_name": "Python 3",
   "language": "python",
   "name": "python3"
  },
  "language_info": {
   "codemirror_mode": {
    "name": "ipython",
    "version": 3
   },
   "file_extension": ".py",
   "mimetype": "text/x-python",
   "name": "python",
   "nbconvert_exporter": "python",
   "pygments_lexer": "ipython3",
   "version": "3.7.3"
  }
 },
 "nbformat": 4,
 "nbformat_minor": 2
}
